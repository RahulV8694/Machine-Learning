{
 "cells": [
  {
   "cell_type": "code",
   "execution_count": 2,
   "metadata": {},
   "outputs": [],
   "source": [
    "import pandas as pd\n",
    "import matplotlib.pyplot as plt\n"
   ]
  },
  {
   "cell_type": "code",
   "execution_count": 3,
   "metadata": {},
   "outputs": [
    {
     "data": {
      "text/html": [
       "<div>\n",
       "<style scoped>\n",
       "    .dataframe tbody tr th:only-of-type {\n",
       "        vertical-align: middle;\n",
       "    }\n",
       "\n",
       "    .dataframe tbody tr th {\n",
       "        vertical-align: top;\n",
       "    }\n",
       "\n",
       "    .dataframe thead th {\n",
       "        text-align: right;\n",
       "    }\n",
       "</style>\n",
       "<table border=\"1\" class=\"dataframe\">\n",
       "  <thead>\n",
       "    <tr style=\"text-align: right;\">\n",
       "      <th></th>\n",
       "      <th>timestamp</th>\n",
       "      <th>speed</th>\n",
       "      <th>speed_deviation</th>\n",
       "      <th>area</th>\n",
       "      <th>area_deviation</th>\n",
       "      <th>frames</th>\n",
       "      <th>seconds</th>\n",
       "      <th>direction</th>\n",
       "      <th>max_dba</th>\n",
       "    </tr>\n",
       "  </thead>\n",
       "  <tbody>\n",
       "    <tr>\n",
       "      <th>0</th>\n",
       "      <td>2024-02-01 00:12:59.144</td>\n",
       "      <td>42</td>\n",
       "      <td>5</td>\n",
       "      <td>3825</td>\n",
       "      <td>375</td>\n",
       "      <td>4</td>\n",
       "      <td>0.43</td>\n",
       "      <td>LTR</td>\n",
       "      <td>83.47</td>\n",
       "    </tr>\n",
       "    <tr>\n",
       "      <th>1</th>\n",
       "      <td>2024-02-01 00:40:09.237</td>\n",
       "      <td>46</td>\n",
       "      <td>3</td>\n",
       "      <td>2508</td>\n",
       "      <td>373</td>\n",
       "      <td>6</td>\n",
       "      <td>0.60</td>\n",
       "      <td>RTL</td>\n",
       "      <td>83.22</td>\n",
       "    </tr>\n",
       "    <tr>\n",
       "      <th>2</th>\n",
       "      <td>2024-02-01 00:41:13.369</td>\n",
       "      <td>36</td>\n",
       "      <td>1</td>\n",
       "      <td>2134</td>\n",
       "      <td>1018</td>\n",
       "      <td>6</td>\n",
       "      <td>0.61</td>\n",
       "      <td>LTR</td>\n",
       "      <td>80.98</td>\n",
       "    </tr>\n",
       "    <tr>\n",
       "      <th>3</th>\n",
       "      <td>2024-02-01 01:42:11.259</td>\n",
       "      <td>53</td>\n",
       "      <td>1</td>\n",
       "      <td>3234</td>\n",
       "      <td>1030</td>\n",
       "      <td>4</td>\n",
       "      <td>0.44</td>\n",
       "      <td>LTR</td>\n",
       "      <td>87.32</td>\n",
       "    </tr>\n",
       "    <tr>\n",
       "      <th>4</th>\n",
       "      <td>2024-02-01 02:26:10.154</td>\n",
       "      <td>49</td>\n",
       "      <td>2</td>\n",
       "      <td>2826</td>\n",
       "      <td>1114</td>\n",
       "      <td>6</td>\n",
       "      <td>0.61</td>\n",
       "      <td>RTL</td>\n",
       "      <td>88.15</td>\n",
       "    </tr>\n",
       "    <tr>\n",
       "      <th>...</th>\n",
       "      <td>...</td>\n",
       "      <td>...</td>\n",
       "      <td>...</td>\n",
       "      <td>...</td>\n",
       "      <td>...</td>\n",
       "      <td>...</td>\n",
       "      <td>...</td>\n",
       "      <td>...</td>\n",
       "      <td>...</td>\n",
       "    </tr>\n",
       "    <tr>\n",
       "      <th>52628</th>\n",
       "      <td>2024-02-27 08:59:49.161</td>\n",
       "      <td>54</td>\n",
       "      <td>1</td>\n",
       "      <td>45986</td>\n",
       "      <td>1382</td>\n",
       "      <td>4</td>\n",
       "      <td>0.40</td>\n",
       "      <td>LTR</td>\n",
       "      <td>91.68</td>\n",
       "    </tr>\n",
       "    <tr>\n",
       "      <th>52629</th>\n",
       "      <td>2024-02-27 09:00:19.797</td>\n",
       "      <td>43</td>\n",
       "      <td>1</td>\n",
       "      <td>17893</td>\n",
       "      <td>1203</td>\n",
       "      <td>5</td>\n",
       "      <td>0.52</td>\n",
       "      <td>RTL</td>\n",
       "      <td>85.75</td>\n",
       "    </tr>\n",
       "    <tr>\n",
       "      <th>52630</th>\n",
       "      <td>2024-02-27 09:00:22.422</td>\n",
       "      <td>38</td>\n",
       "      <td>4</td>\n",
       "      <td>13583</td>\n",
       "      <td>4778</td>\n",
       "      <td>6</td>\n",
       "      <td>0.67</td>\n",
       "      <td>RTL</td>\n",
       "      <td>83.43</td>\n",
       "    </tr>\n",
       "    <tr>\n",
       "      <th>52631</th>\n",
       "      <td>2024-02-27 09:00:39.116</td>\n",
       "      <td>42</td>\n",
       "      <td>11</td>\n",
       "      <td>2745</td>\n",
       "      <td>1813</td>\n",
       "      <td>7</td>\n",
       "      <td>0.73</td>\n",
       "      <td>RTL</td>\n",
       "      <td>87.03</td>\n",
       "    </tr>\n",
       "    <tr>\n",
       "      <th>52632</th>\n",
       "      <td>2024-02-27 09:00:41.890</td>\n",
       "      <td>43</td>\n",
       "      <td>4</td>\n",
       "      <td>10059</td>\n",
       "      <td>3216</td>\n",
       "      <td>6</td>\n",
       "      <td>0.60</td>\n",
       "      <td>RTL</td>\n",
       "      <td>88.58</td>\n",
       "    </tr>\n",
       "  </tbody>\n",
       "</table>\n",
       "<p>52633 rows × 9 columns</p>\n",
       "</div>"
      ],
      "text/plain": [
       "                     timestamp  speed  speed_deviation   area  area_deviation  \\\n",
       "0      2024-02-01 00:12:59.144     42                5   3825             375   \n",
       "1      2024-02-01 00:40:09.237     46                3   2508             373   \n",
       "2      2024-02-01 00:41:13.369     36                1   2134            1018   \n",
       "3      2024-02-01 01:42:11.259     53                1   3234            1030   \n",
       "4      2024-02-01 02:26:10.154     49                2   2826            1114   \n",
       "...                        ...    ...              ...    ...             ...   \n",
       "52628  2024-02-27 08:59:49.161     54                1  45986            1382   \n",
       "52629  2024-02-27 09:00:19.797     43                1  17893            1203   \n",
       "52630  2024-02-27 09:00:22.422     38                4  13583            4778   \n",
       "52631  2024-02-27 09:00:39.116     42               11   2745            1813   \n",
       "52632  2024-02-27 09:00:41.890     43                4  10059            3216   \n",
       "\n",
       "       frames  seconds direction  max_dba  \n",
       "0           4     0.43       LTR    83.47  \n",
       "1           6     0.60       RTL    83.22  \n",
       "2           6     0.61       LTR    80.98  \n",
       "3           4     0.44       LTR    87.32  \n",
       "4           6     0.61       RTL    88.15  \n",
       "...       ...      ...       ...      ...  \n",
       "52628       4     0.40       LTR    91.68  \n",
       "52629       5     0.52       RTL    85.75  \n",
       "52630       6     0.67       RTL    83.43  \n",
       "52631       7     0.73       RTL    87.03  \n",
       "52632       6     0.60       RTL    88.58  \n",
       "\n",
       "[52633 rows x 9 columns]"
      ]
     },
     "execution_count": 3,
     "metadata": {},
     "output_type": "execute_result"
    }
   ],
   "source": [
    "data = pd.read_csv('recorded_speed_202402.csv')\n",
    "data"
   ]
  },
  {
   "cell_type": "code",
   "execution_count": 6,
   "metadata": {},
   "outputs": [
    {
     "data": {
      "image/png": "[encoded data removed]",
      "text/plain": [
       "<Figure size 640x480 with 1 Axes>"
      ]
     },
     "metadata": {},
     "output_type": "display_data"
    }
   ],
   "source": [
    "plt.hist(data['speed'], bins=120)\n",
    "plt.show()"
   ]
  },
  {
   "cell_type": "code",
   "execution_count": 7,
   "metadata": {},
   "outputs": [
    {
     "data": {
      "image/png": "[encoded data removed]",
      "text/plain": [
       "<Figure size 640x480 with 1 Axes>"
      ]
     },
     "metadata": {},
     "output_type": "display_data"
    }
   ],
   "source": [
    "plt.hist(data['max_dba'], bins=120)\n",
    "plt.show()"
   ]
  },
  {
   "cell_type": "code",
   "execution_count": 8,
   "metadata": {},
   "outputs": [
    {
     "data": {
      "image/png": "[encoded data removed]",
      "text/plain": [
       "<Figure size 640x480 with 1 Axes>"
      ]
     },
     "metadata": {},
     "output_type": "display_data"
    }
   ],
   "source": [
    "plt.hist(data['speed_deviation'], bins=120)\n",
    "plt.show()"
   ]
  },
  {
   "cell_type": "code",
   "execution_count": null,
   "metadata": {},
   "outputs": [],
   "source": [
    "from sklearn.preprocessing import StandardScaler\n",
    "\n",
    "flight = pd.read_csv('data/flightsnyarea.csv')\n"
   ]
  },
  {
   "cell_type": "code",
   "execution_count": 10,
   "metadata": {},
   "outputs": [
    {
     "name": "stdout",
     "output_type": "stream",
     "text": [
      "(10000,)\n"
     ]
    },
    {
     "ename": "TypeError",
     "evalue": "Invalid parameters passed: {'train_test_split': 0.3}",
     "output_type": "error",
     "traceback": [
      "\u001b[1;31m---------------------------------------------------------------------------\u001b[0m",
      "\u001b[1;31mTypeError\u001b[0m                                 Traceback (most recent call last)",
      "Cell \u001b[1;32mIn[10], line 9\u001b[0m\n\u001b[0;32m      7\u001b[0m y\u001b[38;5;241m=\u001b[39m df2[\u001b[38;5;124m'\u001b[39m\u001b[38;5;124mPerformance Index\u001b[39m\u001b[38;5;124m'\u001b[39m]\n\u001b[0;32m      8\u001b[0m \u001b[38;5;28mprint\u001b[39m(y\u001b[38;5;241m.\u001b[39mshape)\n\u001b[1;32m----> 9\u001b[0m X_train,X_test,y_train,y_test \u001b[38;5;241m=\u001b[39m\u001b[43mtrain_test_split\u001b[49m\u001b[43m(\u001b[49m\u001b[43mX\u001b[49m\u001b[43m,\u001b[49m\u001b[43my\u001b[49m\u001b[43m,\u001b[49m\u001b[43mtrain_test_split\u001b[49m\u001b[43m \u001b[49m\u001b[38;5;241;43m=\u001b[39;49m\u001b[38;5;241;43m0.3\u001b[39;49m\u001b[43m)\u001b[49m\n\u001b[0;32m     10\u001b[0m linearRegression \u001b[38;5;241m=\u001b[39m LinearRegression()\n\u001b[0;32m     11\u001b[0m linearRegression\u001b[38;5;241m.\u001b[39mfit(X,y)\n",
      "File \u001b[1;32mc:\\Users\\lab4\\AppData\\Local\\Programs\\Python\\Python38\\lib\\site-packages\\sklearn\\model_selection\\_split.py:2114\u001b[0m, in \u001b[0;36mtrain_test_split\u001b[1;34m(*arrays, **options)\u001b[0m\n\u001b[0;32m   2111\u001b[0m shuffle \u001b[38;5;241m=\u001b[39m options\u001b[38;5;241m.\u001b[39mpop(\u001b[38;5;124m'\u001b[39m\u001b[38;5;124mshuffle\u001b[39m\u001b[38;5;124m'\u001b[39m, \u001b[38;5;28;01mTrue\u001b[39;00m)\n\u001b[0;32m   2113\u001b[0m \u001b[38;5;28;01mif\u001b[39;00m options:\n\u001b[1;32m-> 2114\u001b[0m     \u001b[38;5;28;01mraise\u001b[39;00m \u001b[38;5;167;01mTypeError\u001b[39;00m(\u001b[38;5;124m\"\u001b[39m\u001b[38;5;124mInvalid parameters passed: \u001b[39m\u001b[38;5;132;01m%s\u001b[39;00m\u001b[38;5;124m\"\u001b[39m \u001b[38;5;241m%\u001b[39m \u001b[38;5;28mstr\u001b[39m(options))\n\u001b[0;32m   2116\u001b[0m arrays \u001b[38;5;241m=\u001b[39m indexable(\u001b[38;5;241m*\u001b[39marrays)\n\u001b[0;32m   2118\u001b[0m n_samples \u001b[38;5;241m=\u001b[39m _num_samples(arrays[\u001b[38;5;241m0\u001b[39m])\n",
      "\u001b[1;31mTypeError\u001b[0m: Invalid parameters passed: {'train_test_split': 0.3}"
     ]
    }
   ],
   "source": [
    "from sklearn.model_selection import train_test_split\n",
    "from sklearn.linear_model import LinearRegression\n",
    "\n",
    "fn ='students.csv'\n",
    "df2 = pd.read_csv(fn)\n",
    "X= df2['Previous Scores']\n",
    "y= df2['Performance Index']\n",
    "print(y.shape)\n",
    "X_train,X_test,y_train,y_test =train_test_split(X,y,train_test_split =0.3)\n",
    "linearRegression = LinearRegression()\n",
    "linearRegression.fit(X,y)\n",
    "r2 =round(linearRegression.score(X,y),2)"
   ]
  }
 ],
 "metadata": {
  "kernelspec": {
   "display_name": "Python 3",
   "language": "python",
   "name": "python3"
  },
  "language_info": {
   "codemirror_mode": {
    "name": "ipython",
    "version": 3
   },
   "file_extension": ".py",
   "mimetype": "text/x-python",
   "name": "python",
   "nbconvert_exporter": "python",
   "pygments_lexer": "ipython3",
   "version": "3.8.0"
  }
 },
 "nbformat": 4,
 "nbformat_minor": 2
}
